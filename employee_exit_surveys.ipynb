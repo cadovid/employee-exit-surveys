{
 "cells": [
  {
   "cell_type": "markdown",
   "metadata": {
    "collapsed": true
   },
   "source": [
    "## Cleaning and analyzing Employee Exit Surveys\n",
    "\n",
    "### Introduction\n",
    "\n",
    "In this project, we will work with exit surveys from employees of the Department of Education, Training and Employment (DETE) and the Technical and Further Education (TAFE) institute in Queensland, Australia. Both the TAFE exit survey and the survey for the DETE can be founded [here](https://data.gov.au/dataset/ds-qld-89970a3b-182b-41ea-aea2-6f9f17b5907e/details?q=exit%20survey) and [here](https://data.gov.au/dataset/ds-qld-fe96ff30-d157-4a81-851d-215f2a0fe26d/details?q=exit%20survey). Before the start of the analysi, it is necessary to do some minor changes to the datasets including changing the encoding to `UTF-8` (the original ones are encoded using `cp1252`).\n",
    "\n",
    "For the following analysis, we will try to answer the questions:\n",
    "- Are employees who only worked for the institutes for a short period of time resigning due to some kind of dissatisfaction? What about employees who have been there longer?\n",
    "- Are younger employees resigning due to some kind of dissatisfaction? What about older employees?\n",
    "\n",
    "### Step 1: Reading the datasets"
   ]
  },
  {
   "cell_type": "code",
   "execution_count": 1,
   "metadata": {
    "collapsed": false
   },
   "outputs": [
    {
     "name": "stdout",
     "output_type": "stream",
     "text": [
      "DETE Survey Info:\n",
      "\n",
      "<class 'pandas.core.frame.DataFrame'>\n",
      "RangeIndex: 822 entries, 0 to 821\n",
      "Data columns (total 56 columns):\n",
      "ID                                     822 non-null int64\n",
      "SeparationType                         822 non-null object\n",
      "Cease Date                             822 non-null object\n",
      "DETE Start Date                        822 non-null object\n",
      "Role Start Date                        822 non-null object\n",
      "Position                               817 non-null object\n",
      "Classification                         455 non-null object\n",
      "Region                                 822 non-null object\n",
      "Business Unit                          126 non-null object\n",
      "Employment Status                      817 non-null object\n",
      "Career move to public sector           822 non-null bool\n",
      "Career move to private sector          822 non-null bool\n",
      "Interpersonal conflicts                822 non-null bool\n",
      "Job dissatisfaction                    822 non-null bool\n",
      "Dissatisfaction with the department    822 non-null bool\n",
      "Physical work environment              822 non-null bool\n",
      "Lack of recognition                    822 non-null bool\n",
      "Lack of job security                   822 non-null bool\n",
      "Work location                          822 non-null bool\n",
      "Employment conditions                  822 non-null bool\n",
      "Maternity/family                       822 non-null bool\n",
      "Relocation                             822 non-null bool\n",
      "Study/Travel                           822 non-null bool\n",
      "Ill Health                             822 non-null bool\n",
      "Traumatic incident                     822 non-null bool\n",
      "Work life balance                      822 non-null bool\n",
      "Workload                               822 non-null bool\n",
      "None of the above                      822 non-null bool\n",
      "Professional Development               808 non-null object\n",
      "Opportunities for promotion            735 non-null object\n",
      "Staff morale                           816 non-null object\n",
      "Workplace issue                        788 non-null object\n",
      "Physical environment                   817 non-null object\n",
      "Worklife balance                       815 non-null object\n",
      "Stress and pressure support            810 non-null object\n",
      "Performance of supervisor              813 non-null object\n",
      "Peer support                           812 non-null object\n",
      "Initiative                             813 non-null object\n",
      "Skills                                 811 non-null object\n",
      "Coach                                  767 non-null object\n",
      "Career Aspirations                     746 non-null object\n",
      "Feedback                               792 non-null object\n",
      "Further PD                             768 non-null object\n",
      "Communication                          814 non-null object\n",
      "My say                                 812 non-null object\n",
      "Information                            816 non-null object\n",
      "Kept informed                          813 non-null object\n",
      "Wellness programs                      766 non-null object\n",
      "Health & Safety                        793 non-null object\n",
      "Gender                                 798 non-null object\n",
      "Age                                    811 non-null object\n",
      "Aboriginal                             16 non-null object\n",
      "Torres Strait                          3 non-null object\n",
      "South Sea                              7 non-null object\n",
      "Disability                             23 non-null object\n",
      "NESB                                   32 non-null object\n",
      "dtypes: bool(18), int64(1), object(37)\n",
      "memory usage: 258.6+ KB\n",
      "TAFE Survey Info:\n",
      "\n",
      "<class 'pandas.core.frame.DataFrame'>\n",
      "RangeIndex: 702 entries, 0 to 701\n",
      "Data columns (total 72 columns):\n",
      "Record ID                                                                                                                                                        702 non-null float64\n",
      "Institute                                                                                                                                                        702 non-null object\n",
      "WorkArea                                                                                                                                                         702 non-null object\n",
      "CESSATION YEAR                                                                                                                                                   695 non-null float64\n",
      "Reason for ceasing employment                                                                                                                                    701 non-null object\n",
      "Contributing Factors. Career Move - Public Sector                                                                                                                437 non-null object\n",
      "Contributing Factors. Career Move - Private Sector                                                                                                               437 non-null object\n",
      "Contributing Factors. Career Move - Self-employment                                                                                                              437 non-null object\n",
      "Contributing Factors. Ill Health                                                                                                                                 437 non-null object\n",
      "Contributing Factors. Maternity/Family                                                                                                                           437 non-null object\n",
      "Contributing Factors. Dissatisfaction                                                                                                                            437 non-null object\n",
      "Contributing Factors. Job Dissatisfaction                                                                                                                        437 non-null object\n",
      "Contributing Factors. Interpersonal Conflict                                                                                                                     437 non-null object\n",
      "Contributing Factors. Study                                                                                                                                      437 non-null object\n",
      "Contributing Factors. Travel                                                                                                                                     437 non-null object\n",
      "Contributing Factors. Other                                                                                                                                      437 non-null object\n",
      "Contributing Factors. NONE                                                                                                                                       437 non-null object\n",
      "Main Factor. Which of these was the main factor for leaving?                                                                                                     113 non-null object\n",
      "InstituteViews. Topic:1. I feel the senior leadership had a clear vision and direction                                                                           608 non-null object\n",
      "InstituteViews. Topic:2. I was given access to skills training to help me do my job better                                                                       613 non-null object\n",
      "InstituteViews. Topic:3. I was given adequate opportunities for personal development                                                                             610 non-null object\n",
      "InstituteViews. Topic:4. I was given adequate opportunities for promotion within %Institute]Q25LBL%                                                              608 non-null object\n",
      "InstituteViews. Topic:5. I felt the salary for the job was right for the responsibilities I had                                                                  615 non-null object\n",
      "InstituteViews. Topic:6. The organisation recognised when staff did good work                                                                                    607 non-null object\n",
      "InstituteViews. Topic:7. Management was generally supportive of me                                                                                               614 non-null object\n",
      "InstituteViews. Topic:8. Management was generally supportive of my team                                                                                          608 non-null object\n",
      "InstituteViews. Topic:9. I was kept informed of the changes in the organisation which would affect me                                                            610 non-null object\n",
      "InstituteViews. Topic:10. Staff morale was positive within the Institute                                                                                         602 non-null object\n",
      "InstituteViews. Topic:11. If I had a workplace issue it was dealt with quickly                                                                                   601 non-null object\n",
      "InstituteViews. Topic:12. If I had a workplace issue it was dealt with efficiently                                                                               597 non-null object\n",
      "InstituteViews. Topic:13. If I had a workplace issue it was dealt with discreetly                                                                                601 non-null object\n",
      "WorkUnitViews. Topic:14. I was satisfied with the quality of the management and supervision within my work unit                                                  609 non-null object\n",
      "WorkUnitViews. Topic:15. I worked well with my colleagues                                                                                                        605 non-null object\n",
      "WorkUnitViews. Topic:16. My job was challenging and interesting                                                                                                  607 non-null object\n",
      "WorkUnitViews. Topic:17. I was encouraged to use my initiative in the course of my work                                                                          610 non-null object\n",
      "WorkUnitViews. Topic:18. I had sufficient contact with other people in my job                                                                                    613 non-null object\n",
      "WorkUnitViews. Topic:19. I was given adequate support and co-operation by my peers to enable me to do my job                                                     609 non-null object\n",
      "WorkUnitViews. Topic:20. I was able to use the full range of my skills in my job                                                                                 609 non-null object\n",
      "WorkUnitViews. Topic:21. I was able to use the full range of my abilities in my job. ; Category:Level of Agreement; Question:YOUR VIEWS ABOUT YOUR WORK UNIT]    608 non-null object\n",
      "WorkUnitViews. Topic:22. I was able to use the full range of my knowledge in my job                                                                              608 non-null object\n",
      "WorkUnitViews. Topic:23. My job provided sufficient variety                                                                                                      611 non-null object\n",
      "WorkUnitViews. Topic:24. I was able to cope with the level of stress and pressure in my job                                                                      610 non-null object\n",
      "WorkUnitViews. Topic:25. My job allowed me to balance the demands of work and family to my satisfaction                                                          611 non-null object\n",
      "WorkUnitViews. Topic:26. My supervisor gave me adequate personal recognition and feedback on my performance                                                      606 non-null object\n",
      "WorkUnitViews. Topic:27. My working environment was satisfactory e.g. sufficient space, good lighting, suitable seating and working area                         610 non-null object\n",
      "WorkUnitViews. Topic:28. I was given the opportunity to mentor and coach others in order for me to pass on my skills and knowledge prior to my cessation date    609 non-null object\n",
      "WorkUnitViews. Topic:29. There was adequate communication between staff in my unit                                                                               603 non-null object\n",
      "WorkUnitViews. Topic:30. Staff morale was positive within my work unit                                                                                           606 non-null object\n",
      "Induction. Did you undertake Workplace Induction?                                                                                                                619 non-null object\n",
      "InductionInfo. Topic:Did you undertake a Corporate Induction?                                                                                                    432 non-null object\n",
      "InductionInfo. Topic:Did you undertake a Institute Induction?                                                                                                    483 non-null object\n",
      "InductionInfo. Topic: Did you undertake Team Induction?                                                                                                          440 non-null object\n",
      "InductionInfo. Face to Face Topic:Did you undertake a Corporate Induction; Category:How it was conducted?                                                        555 non-null object\n",
      "InductionInfo. On-line Topic:Did you undertake a Corporate Induction; Category:How it was conducted?                                                             555 non-null object\n",
      "InductionInfo. Induction Manual Topic:Did you undertake a Corporate Induction?                                                                                   555 non-null object\n",
      "InductionInfo. Face to Face Topic:Did you undertake a Institute Induction?                                                                                       530 non-null object\n",
      "InductionInfo. On-line Topic:Did you undertake a Institute Induction?                                                                                            555 non-null object\n",
      "InductionInfo. Induction Manual Topic:Did you undertake a Institute Induction?                                                                                   553 non-null object\n",
      "InductionInfo. Face to Face Topic: Did you undertake Team Induction; Category?                                                                                   555 non-null object\n",
      "InductionInfo. On-line Topic: Did you undertake Team Induction?process you undertook and how it was conducted.]                                                  555 non-null object\n",
      "InductionInfo. Induction Manual Topic: Did you undertake Team Induction?                                                                                         555 non-null object\n",
      "Workplace. Topic:Did you and your Manager develop a Performance and Professional Development Plan (PPDP)?                                                        608 non-null object\n",
      "Workplace. Topic:Does your workplace promote a work culture free from all forms of unlawful discrimination?                                                      594 non-null object\n",
      "Workplace. Topic:Does your workplace promote and practice the principles of employment equity?                                                                   587 non-null object\n",
      "Workplace. Topic:Does your workplace value the diversity of its employees?                                                                                       586 non-null object\n",
      "Workplace. Topic:Would you recommend the Institute as an employer to others?                                                                                     581 non-null object\n",
      "Gender. What is your Gender?                                                                                                                                     596 non-null object\n",
      "CurrentAge. Current Age                                                                                                                                          596 non-null object\n",
      "Employment Type. Employment Type                                                                                                                                 596 non-null object\n",
      "Classification. Classification                                                                                                                                   596 non-null object\n",
      "LengthofServiceOverall. Overall Length of Service at Institute (in years)                                                                                        596 non-null object\n",
      "LengthofServiceCurrent. Length of Service at current workplace (in years)                                                                                        596 non-null object\n",
      "dtypes: float64(2), object(70)\n",
      "memory usage: 395.0+ KB\n",
      "First DETE rows:\n",
      "   ID                    SeparationType Cease Date DETE Start Date  \\\n",
      "0   1             Ill Health Retirement    08/2012            1984   \n",
      "1   2  Voluntary Early Retirement (VER)    08/2012      Not Stated   \n",
      "2   3  Voluntary Early Retirement (VER)    05/2012            2011   \n",
      "3   4         Resignation-Other reasons    05/2012            2005   \n",
      "4   5                    Age Retirement    05/2012            1970   \n",
      "\n",
      "  Role Start Date                                      Position  \\\n",
      "0            2004                                Public Servant   \n",
      "1      Not Stated                                Public Servant   \n",
      "2            2011                               Schools Officer   \n",
      "3            2006                                       Teacher   \n",
      "4            1989  Head of Curriculum/Head of Special Education   \n",
      "\n",
      "  Classification              Region                      Business Unit  \\\n",
      "0        A01-A04      Central Office  Corporate Strategy and Peformance   \n",
      "1        AO5-AO7      Central Office  Corporate Strategy and Peformance   \n",
      "2            NaN      Central Office               Education Queensland   \n",
      "3        Primary  Central Queensland                                NaN   \n",
      "4            NaN          South East                                NaN   \n",
      "\n",
      "     Employment Status  ...   Kept informed  Wellness programs  \\\n",
      "0  Permanent Full-time  ...               N                  N   \n",
      "1  Permanent Full-time  ...               N                  N   \n",
      "2  Permanent Full-time  ...               N                  N   \n",
      "3  Permanent Full-time  ...               A                  N   \n",
      "4  Permanent Full-time  ...               N                  A   \n",
      "\n",
      "   Health & Safety  Gender          Age  Aboriginal  Torres Strait  South Sea  \\\n",
      "0                N    Male        56-60         NaN            NaN        NaN   \n",
      "1                N    Male        56-60         NaN            NaN        NaN   \n",
      "2                N    Male  61 or older         NaN            NaN        NaN   \n",
      "3                A  Female        36-40         NaN            NaN        NaN   \n",
      "4                M  Female  61 or older         NaN            NaN        NaN   \n",
      "\n",
      "   Disability  NESB  \n",
      "0         NaN   Yes  \n",
      "1         NaN   NaN  \n",
      "2         NaN   NaN  \n",
      "3         NaN   NaN  \n",
      "4         NaN   NaN  \n",
      "\n",
      "[5 rows x 56 columns]\n",
      "First TAFE rows:\n",
      "      Record ID                              Institute  \\\n",
      "0  6.341330e+17  Southern Queensland Institute of TAFE   \n",
      "1  6.341337e+17            Mount Isa Institute of TAFE   \n",
      "2  6.341388e+17            Mount Isa Institute of TAFE   \n",
      "3  6.341399e+17            Mount Isa Institute of TAFE   \n",
      "4  6.341466e+17  Southern Queensland Institute of TAFE   \n",
      "\n",
      "                   WorkArea  CESSATION YEAR Reason for ceasing employment  \\\n",
      "0  Non-Delivery (corporate)          2010.0              Contract Expired   \n",
      "1  Non-Delivery (corporate)          2010.0                    Retirement   \n",
      "2       Delivery (teaching)          2010.0                    Retirement   \n",
      "3  Non-Delivery (corporate)          2010.0                   Resignation   \n",
      "4       Delivery (teaching)          2010.0                   Resignation   \n",
      "\n",
      "  Contributing Factors. Career Move - Public Sector   \\\n",
      "0                                                NaN   \n",
      "1                                                  -   \n",
      "2                                                  -   \n",
      "3                                                  -   \n",
      "4                                                  -   \n",
      "\n",
      "  Contributing Factors. Career Move - Private Sector   \\\n",
      "0                                                NaN    \n",
      "1                                                  -    \n",
      "2                                                  -    \n",
      "3                                                  -    \n",
      "4                       Career Move - Private Sector    \n",
      "\n",
      "  Contributing Factors. Career Move - Self-employment  \\\n",
      "0                                                NaN    \n",
      "1                                                  -    \n",
      "2                                                  -    \n",
      "3                                                  -    \n",
      "4                                                  -    \n",
      "\n",
      "  Contributing Factors. Ill Health Contributing Factors. Maternity/Family  \\\n",
      "0                              NaN                                    NaN   \n",
      "1                                -                                      -   \n",
      "2                                -                                      -   \n",
      "3                                -                                      -   \n",
      "4                                -                                      -   \n",
      "\n",
      "                                     ...                                     \\\n",
      "0                                    ...                                      \n",
      "1                                    ...                                      \n",
      "2                                    ...                                      \n",
      "3                                    ...                                      \n",
      "4                                    ...                                      \n",
      "\n",
      "  Workplace. Topic:Does your workplace promote a work culture free from all forms of unlawful discrimination?  \\\n",
      "0                                                Yes                                                            \n",
      "1                                                Yes                                                            \n",
      "2                                                Yes                                                            \n",
      "3                                                Yes                                                            \n",
      "4                                                Yes                                                            \n",
      "\n",
      "  Workplace. Topic:Does your workplace promote and practice the principles of employment equity?  \\\n",
      "0                                                Yes                                               \n",
      "1                                                Yes                                               \n",
      "2                                                Yes                                               \n",
      "3                                                Yes                                               \n",
      "4                                                Yes                                               \n",
      "\n",
      "  Workplace. Topic:Does your workplace value the diversity of its employees?  \\\n",
      "0                                                Yes                           \n",
      "1                                                Yes                           \n",
      "2                                                Yes                           \n",
      "3                                                Yes                           \n",
      "4                                                Yes                           \n",
      "\n",
      "  Workplace. Topic:Would you recommend the Institute as an employer to others?  \\\n",
      "0                                                Yes                             \n",
      "1                                                Yes                             \n",
      "2                                                Yes                             \n",
      "3                                                Yes                             \n",
      "4                                                Yes                             \n",
      "\n",
      "  Gender. What is your Gender? CurrentAge. Current Age  \\\n",
      "0                       Female                  26  30   \n",
      "1                          NaN                     NaN   \n",
      "2                          NaN                     NaN   \n",
      "3                          NaN                     NaN   \n",
      "4                         Male                  41  45   \n",
      "\n",
      "  Employment Type. Employment Type Classification. Classification  \\\n",
      "0              Temporary Full-time            Administration (AO)   \n",
      "1                              NaN                            NaN   \n",
      "2                              NaN                            NaN   \n",
      "3                              NaN                            NaN   \n",
      "4              Permanent Full-time        Teacher (including LVT)   \n",
      "\n",
      "  LengthofServiceOverall. Overall Length of Service at Institute (in years)  \\\n",
      "0                                                1-2                          \n",
      "1                                                NaN                          \n",
      "2                                                NaN                          \n",
      "3                                                NaN                          \n",
      "4                                                3-4                          \n",
      "\n",
      "  LengthofServiceCurrent. Length of Service at current workplace (in years)  \n",
      "0                                                1-2                         \n",
      "1                                                NaN                         \n",
      "2                                                NaN                         \n",
      "3                                                NaN                         \n",
      "4                                                3-4                         \n",
      "\n",
      "[5 rows x 72 columns]\n"
     ]
    }
   ],
   "source": [
    "import pandas as pd\n",
    "import numpy as np\n",
    "\n",
    "dete_survey = pd.read_csv('dete_survey.csv', encoding='UTF-8')\n",
    "tafe_survey = pd.read_csv('tafe_survey.csv', encoding='UTF-8')\n",
    "\n",
    "# Basic information about the datasets\n",
    "print('DETE Survey Info:\\n')\n",
    "dete_survey.info()\n",
    "print('TAFE Survey Info:\\n')\n",
    "tafe_survey.info()\n",
    "print('First DETE rows:', dete_survey.head(5), sep='\\n')\n",
    "print('First TAFE rows:', tafe_survey.head(5), sep='\\n')"
   ]
  },
  {
   "cell_type": "markdown",
   "metadata": {},
   "source": [
    "Below is a preview of a couple columns from the `dete_survey.csv`:\n",
    "\n",
    "    - ID: An id used to identify the participant of the survey\n",
    "    - SeparationType: The reason why the person's employment ended\n",
    "    - Cease Date: The year or month the person's employment ended\n",
    "    - DETE Start Date: The year the person began employment with the DETE\n",
    "\n",
    "Below is a preview of a couple columns we'll work with from the `tafe_survey.csv`:\n",
    "\n",
    "    - Record ID: An id used to identify the participant of the survey\n",
    "    - Reason for ceasing employment: The reason why the person's employment ended\n",
    "    - LengthofServiceOverall. Overall Length of Service at Institute (in years): The length of the person's employment (in years)\n",
    "\n",
    "From the observations of the basic information extracted before, we can infere that there is 822 rows x 56 columns in DETE dataset and 702 rows x 72 columns in TAFE dataset. We can observe that:\n",
    "\n",
    "- The dete_survey dataframe contains 'Not Stated' values that indicate values are missing, but they are not represented as NaN.\n",
    "- Both the dete_survey and tafe_survey dataframes contain many columns that we do not need to complete our analysis.\n",
    "- Each dataframe contains many of the same columns, but the column names are different.\n",
    "- There are multiple columns/answers that indicate an employee resigned because they were dissatisfied.\n",
    "\n",
    "### Step 2: Cleaning and modifying the datasets\n",
    "\n",
    "First, we will try yo handle the values not indicated as NaN and drop all of the columns not needed."
   ]
  },
  {
   "cell_type": "code",
   "execution_count": 2,
   "metadata": {
    "collapsed": false
   },
   "outputs": [],
   "source": [
    "# Update of the datasets\n",
    "dete_survey = pd.read_csv('dete_survey.csv', encoding='UTF-8', na_values='Not Stated')\n",
    "dete_survey_updated = dete_survey.drop(dete_survey.columns[28:49], axis=1)\n",
    "tafe_survey_updated = tafe_survey.drop(tafe_survey.columns[17:66], axis=1)"
   ]
  },
  {
   "cell_type": "markdown",
   "metadata": {},
   "source": [
    "After this, we will try to modify column names, because each dataframe contains many of the same columns, but the column names are different. Below are some of the columns we would like to use for our final analysis:\n",
    "\n",
    "|   dete_survey   |                                  tafe_survey                                 |                        Definition                       |\n",
    "|:---------------:|:----------------------------------------------------------------------------:|:-------------------------------------------------------:|\n",
    "| ID              | Record ID                                                                    | An id used to identify the participant of the survey    |\n",
    "| SeparationType  | Reason for ceasing  employment                                               | The reason why the participant's employment ended       |\n",
    "| Cease Date      | CESSATION YEAR                                                               | The year or month the participant's employment ended    |\n",
    "| DETE Start Date |                                                                              | The year the participant began employment with the DETE |\n",
    "|                 | LengthofServiceOverall.  Overall Length of Service  at Institute (in years)  | The length of the person's employment (in years)        |\n",
    "| Age             | CurrentAge.  Current Age                                                     | The age of the participant                              |\n",
    "| Gender          | Gender.  What is your Gender?                                                | The gender of the participant                           |\n",
    "\n"
   ]
  },
  {
   "cell_type": "code",
   "execution_count": 3,
   "metadata": {
    "collapsed": false
   },
   "outputs": [
    {
     "name": "stdout",
     "output_type": "stream",
     "text": [
      "DETE columns:\n",
      "Index(['id', 'separationtype', 'cease_date', 'dete_start_date',\n",
      "       'role_start_date', 'position', 'classification', 'region',\n",
      "       'business_unit', 'employment_status', 'career_move_to_public_sector',\n",
      "       'career_move_to_private_sector', 'interpersonal_conflicts',\n",
      "       'job_dissatisfaction', 'dissatisfaction_with_the_department',\n",
      "       'physical_work_environment', 'lack_of_recognition',\n",
      "       'lack_of_job_security', 'work_location', 'employment_conditions',\n",
      "       'maternity/family', 'relocation', 'study/travel', 'ill_health',\n",
      "       'traumatic_incident', 'work_life_balance', 'workload',\n",
      "       'none_of_the_above', 'gender', 'age', 'aboriginal', 'torres_strait',\n",
      "       'south_sea', 'disability', 'nesb'],\n",
      "      dtype='object')\n",
      "TAFE columns:\n",
      "Index(['id', 'Institute', 'WorkArea', 'cease_date', 'separationtype',\n",
      "       'Contributing Factors. Career Move - Public Sector ',\n",
      "       'Contributing Factors. Career Move - Private Sector ',\n",
      "       'Contributing Factors. Career Move - Self-employment',\n",
      "       'Contributing Factors. Ill Health',\n",
      "       'Contributing Factors. Maternity/Family',\n",
      "       'Contributing Factors. Dissatisfaction',\n",
      "       'Contributing Factors. Job Dissatisfaction',\n",
      "       'Contributing Factors. Interpersonal Conflict',\n",
      "       'Contributing Factors. Study', 'Contributing Factors. Travel',\n",
      "       'Contributing Factors. Other', 'Contributing Factors. NONE', 'gender',\n",
      "       'age', 'employment_status', 'position', 'institute_service',\n",
      "       'role_service'],\n",
      "      dtype='object')\n"
     ]
    }
   ],
   "source": [
    "# Rename of the columns of the datasets\n",
    "dete_survey_updated.columns = dete_survey_updated.columns.str.lower().str.strip().str.replace(' ','_')\n",
    "tafe_survey_updated.rename(columns = {'Record ID': 'id', \n",
    "                                      'CESSATION YEAR': 'cease_date', \n",
    "                                      'Reason for ceasing employment': 'separationtype', \n",
    "                                      'Gender. What is your Gender?': 'gender',\n",
    "                                      'CurrentAge. Current Age': 'age',\n",
    "                                      'Employment Type. Employment Type': 'employment_status',\n",
    "                                      'Classification. Classification': 'position',\n",
    "                                      'LengthofServiceOverall. Overall Length of Service at Institute (in years)': 'institute_service',\n",
    "                                      'LengthofServiceCurrent. Length of Service at current workplace (in years)': 'role_service'\n",
    "                                     }, inplace=True)\n",
    "# Check renames\n",
    "print('DETE columns:', dete_survey_updated.columns, sep='\\n')\n",
    "print('TAFE columns:', tafe_survey_updated.columns, sep='\\n')"
   ]
  },
  {
   "cell_type": "markdown",
   "metadata": {},
   "source": [
    "If we look at the unique values in the `separationtype` columns in each dataframe, we'll see that each contains a couple of different separation types. For this project, we'll only analyze survey respondents who resigned, so their separation type contains the string 'Resignation'.\n",
    "\n",
    "`dete_survey_updated` dataframe contains multiple separation types with the string 'Resignation':\n",
    "\n",
    "    - Resignation-Other reasons\n",
    "    - Resignation-Other employer\n",
    "    - Resignation-Move overseas/interstate"
   ]
  },
  {
   "cell_type": "code",
   "execution_count": 4,
   "metadata": {
    "collapsed": false
   },
   "outputs": [
    {
     "name": "stdout",
     "output_type": "stream",
     "text": [
      "DETE separationtype values:\n",
      "Age Retirement                          285\n",
      "Resignation-Other reasons               150\n",
      "Resignation-Other employer               91\n",
      "Resignation-Move overseas/interstate     70\n",
      "Voluntary Early Retirement (VER)         67\n",
      "Ill Health Retirement                    61\n",
      "Other                                    49\n",
      "Contract Expired                         34\n",
      "Termination                              15\n",
      "Name: separationtype, dtype: int64\n",
      "TAFE separationtype values:\n",
      "Resignation                 340\n",
      "Contract Expired            127\n",
      "Retrenchment/ Redundancy    104\n",
      "Retirement                   82\n",
      "Transfer                     25\n",
      "Termination                  23\n",
      "Name: separationtype, dtype: int64\n"
     ]
    }
   ],
   "source": [
    "# Check values from separation types\n",
    "print('DETE separationtype values:', dete_survey_updated['separationtype'].value_counts(), sep='\\n')\n",
    "print('TAFE separationtype values:', tafe_survey_updated['separationtype'].value_counts(), sep='\\n')"
   ]
  },
  {
   "cell_type": "code",
   "execution_count": 5,
   "metadata": {
    "collapsed": false
   },
   "outputs": [
    {
     "name": "stdout",
     "output_type": "stream",
     "text": [
      "DETE separationtype values:\n",
      "Resignation-Other reasons               150\n",
      "Resignation-Other employer               91\n",
      "Resignation-Move overseas/interstate     70\n",
      "Name: separationtype, dtype: int64\n",
      "TAFE separationtype values:\n",
      "Resignation    340\n",
      "Name: separationtype, dtype: int64\n"
     ]
    }
   ],
   "source": [
    "# Create copy of both the datasets for Resignation types\n",
    "dete_resignations = dete_survey_updated.loc[(dete_survey_updated['separationtype'] == 'Resignation-Other reasons') | \n",
    "                                            (dete_survey_updated['separationtype'] == 'Resignation-Other employer') |\n",
    "                                            (dete_survey_updated['separationtype'] == 'Resignation-Move overseas/interstate'), :].copy()\n",
    "tafe_resignations = tafe_survey_updated.loc[tafe_survey_updated['separationtype'] == 'Resignation', :].copy()\n",
    "\n",
    "# Check values from new datasets\n",
    "print('DETE separationtype values:', dete_resignations['separationtype'].value_counts(), sep='\\n')\n",
    "print('TAFE separationtype values:', tafe_resignations['separationtype'].value_counts(), sep='\\n')"
   ]
  },
  {
   "cell_type": "markdown",
   "metadata": {},
   "source": [
    "Next we will focus on verifying that the years in the `cease_date` and `dete_start_date` columns make sense. Since the `cease_date` is the last year of the person's employment and the `dete_start_date` is the person's first year of employment, it wouldn't make sense to have years after the current date. Given that most people in this field start working in their 20s, it's also unlikely that the `dete_start_date` was before the year 1940."
   ]
  },
  {
   "cell_type": "code",
   "execution_count": 6,
   "metadata": {
    "collapsed": false
   },
   "outputs": [
    {
     "name": "stdout",
     "output_type": "stream",
     "text": [
      "DETE cease_date values before:\n",
      "2012       126\n",
      "2013        74\n",
      "01/2014     22\n",
      "12/2013     17\n",
      "06/2013     14\n",
      "NaN         11\n",
      "09/2013     11\n",
      "07/2013      9\n",
      "11/2013      9\n",
      "10/2013      6\n",
      "08/2013      4\n",
      "05/2013      2\n",
      "05/2012      2\n",
      "07/2012      1\n",
      "07/2006      1\n",
      "09/2010      1\n",
      "2010         1\n",
      "Name: cease_date, dtype: int64\n",
      "DETE cease_date values after:\n",
      " 2013.0    146\n",
      " 2012.0    129\n",
      " 2014.0     22\n",
      "NaN         11\n",
      " 2010.0      2\n",
      " 2006.0      1\n",
      "Name: cease_date, dtype: int64\n"
     ]
    },
    {
     "name": "stderr",
     "output_type": "stream",
     "text": [
      "/dataquest/system/env/python3/lib/python3.4/site-packages/ipykernel/__main__.py:4: FutureWarning: currently extract(expand=None) means expand=False (return Index/Series/DataFrame) but in a future version of pandas this will be changed to expand=True (return DataFrame)\n"
     ]
    }
   ],
   "source": [
    "# Check and clean values for DETE\n",
    "print('DETE cease_date values before:', dete_resignations['cease_date'].value_counts(dropna=False), sep='\\n')\n",
    "pattern_cease_dete = r'([1-2][0-9]{3})'\n",
    "years = dete_resignations['cease_date'].str.extract(pattern_cease_dete)\n",
    "dete_resignations['cease_date'] = years\n",
    "dete_resignations['cease_date'] = dete_resignations['cease_date'].astype(float)\n",
    "print('DETE cease_date values after:', dete_resignations['cease_date'].value_counts(dropna=False), sep='\\n')"
   ]
  },
  {
   "cell_type": "code",
   "execution_count": 7,
   "metadata": {
    "collapsed": false
   },
   "outputs": [
    {
     "name": "stdout",
     "output_type": "stream",
     "text": [
      "DETE cease_date values before:\n",
      " 2013.0    146\n",
      " 2012.0    129\n",
      " 2014.0     22\n",
      "NaN         11\n",
      " 2010.0      2\n",
      " 2006.0      1\n",
      "Name: cease_date, dtype: int64\n",
      "DETE dete_start_date values before:\n",
      "NaN        28\n",
      " 2011.0    24\n",
      " 2008.0    22\n",
      " 2007.0    21\n",
      " 2012.0    21\n",
      " 2010.0    17\n",
      " 2005.0    15\n",
      " 2004.0    14\n",
      " 2009.0    13\n",
      " 2006.0    13\n",
      " 2013.0    10\n",
      " 2000.0     9\n",
      " 1999.0     8\n",
      " 1998.0     6\n",
      " 2002.0     6\n",
      " 1994.0     6\n",
      " 1996.0     6\n",
      " 1992.0     6\n",
      " 2003.0     6\n",
      " 1980.0     5\n",
      " 1990.0     5\n",
      " 1993.0     5\n",
      " 1997.0     5\n",
      " 1989.0     4\n",
      " 1995.0     4\n",
      " 1988.0     4\n",
      " 1991.0     4\n",
      " 2001.0     3\n",
      " 1986.0     3\n",
      " 1985.0     3\n",
      " 1976.0     2\n",
      " 1983.0     2\n",
      " 1974.0     2\n",
      " 1963.0     1\n",
      " 1972.0     1\n",
      " 1984.0     1\n",
      " 1975.0     1\n",
      " 1973.0     1\n",
      " 1987.0     1\n",
      " 1982.0     1\n",
      " 1971.0     1\n",
      " 1977.0     1\n",
      "Name: dete_start_date, dtype: int64\n",
      "TAFE cease_date values before:\n",
      " 2011.0    116\n",
      " 2012.0     94\n",
      " 2010.0     68\n",
      " 2013.0     55\n",
      "NaN          5\n",
      " 2009.0      2\n",
      "Name: cease_date, dtype: int64\n"
     ]
    },
    {
     "data": {
      "image/png": "[encoded data removed]",
      "text/plain": [
       "<matplotlib.figure.Figure at 0x7fe070a5ef60>"
      ]
     },
     "metadata": {},
     "output_type": "display_data"
    }
   ],
   "source": [
    "# Check all values for DETE and TAFE\n",
    "print('DETE cease_date values before:', dete_resignations['cease_date'].value_counts(dropna=False), sep='\\n')\n",
    "print('DETE dete_start_date values before:', dete_resignations['dete_start_date'].value_counts(dropna=False), sep='\\n')\n",
    "print('TAFE cease_date values before:', tafe_resignations['cease_date'].value_counts(dropna=False), sep='\\n')\n",
    "# Visual check\n",
    "import matplotlib.pyplot as plt\n",
    "%matplotlib inline\n",
    "fig_1 = plt.figure(figsize=(10,5))\n",
    "ax1 = fig_1.add_subplot(1, 2, 1)\n",
    "ax2 = fig_1.add_subplot(1, 2, 2)\n",
    "ax1.set_title('DETE Values')\n",
    "ax2.set_title('TAFE Values')\n",
    "dete_resignations.boxplot(column=['cease_date', 'dete_start_date'], ax=ax1)\n",
    "tafe_resignations.boxplot(column=['cease_date'], ax=ax2)\n",
    "plt.ticklabel_format(useOffset=False, axis='y')\n",
    "plt.show()"
   ]
  },
  {
   "cell_type": "markdown",
   "metadata": {},
   "source": [
    "From the results we have obtained we can verify:\n",
    "- There aren't any major issues with the years.\n",
    "- The years in each dataframe don't span quite the same number of years.\n",
    "\n",
    "In the Human Resources field, the length of time an employee spent in a workplace is referred to as their years of service. The `tafe_resignations` dataframe already contains a \"service\" column, which we renamed to `institute_service`. In order to analyze both surveys together, we'll have to create a corresponding `institute_service` column in `dete_resignations`."
   ]
  },
  {
   "cell_type": "code",
   "execution_count": 8,
   "metadata": {
    "collapsed": false
   },
   "outputs": [
    {
     "name": "stdout",
     "output_type": "stream",
     "text": [
      "DETE service years:\n",
      "NaN      38\n",
      " 5.0     23\n",
      " 1.0     22\n",
      " 3.0     20\n",
      " 0.0     20\n",
      " 6.0     17\n",
      " 4.0     16\n",
      " 9.0     14\n",
      " 2.0     14\n",
      " 7.0     13\n",
      " 13.0     8\n",
      " 8.0      8\n",
      " 20.0     7\n",
      " 15.0     7\n",
      " 12.0     6\n",
      " 22.0     6\n",
      " 17.0     6\n",
      " 10.0     6\n",
      " 14.0     6\n",
      " 16.0     5\n",
      " 18.0     5\n",
      " 24.0     4\n",
      " 23.0     4\n",
      " 11.0     4\n",
      " 39.0     3\n",
      " 32.0     3\n",
      " 19.0     3\n",
      " 21.0     3\n",
      " 36.0     2\n",
      " 30.0     2\n",
      " 25.0     2\n",
      " 28.0     2\n",
      " 26.0     2\n",
      " 29.0     1\n",
      " 42.0     1\n",
      " 38.0     1\n",
      " 27.0     1\n",
      " 41.0     1\n",
      " 35.0     1\n",
      " 49.0     1\n",
      " 34.0     1\n",
      " 33.0     1\n",
      " 31.0     1\n",
      "Name: institute_service, dtype: int64\n",
      "TAFE service years:\n",
      "Less than 1 year      73\n",
      "1-2                   64\n",
      "3-4                   63\n",
      "NaN                   50\n",
      "5-6                   33\n",
      "11-20                 26\n",
      "7-10                  21\n",
      "More than 20 years    10\n",
      "Name: institute_service, dtype: int64\n"
     ]
    }
   ],
   "source": [
    "# Create new column in DETE for institute_service\n",
    "dete_resignations['institute_service'] = dete_resignations['cease_date'] - dete_resignations['dete_start_date']\n",
    "# Check values for DETE and TAFE service years\n",
    "print('DETE service years:', dete_resignations['institute_service'].value_counts(dropna=False), sep='\\n')\n",
    "print('TAFE service years:', tafe_resignations['institute_service'].value_counts(dropna=False), sep='\\n')"
   ]
  },
  {
   "cell_type": "markdown",
   "metadata": {},
   "source": [
    "Next, we will identify any employees who resigned because they were dissatisfied.\n",
    "\n",
    "Below are the columns we will use to categorize employees as \"dissatisfied\" from each dataframe:\n",
    "\n",
    "    - tafe_survey_updated:\n",
    "        - Contributing Factors. Dissatisfaction\n",
    "        - Contributing Factors. Job Dissatisfaction\n",
    "    - dete_survey_updated:\n",
    "        - job_dissatisfaction\n",
    "        - dissatisfaction_with_the_department\n",
    "        - physical_work_environment\n",
    "        - lack_of_recognition\n",
    "        - lack_of_job_security\n",
    "        - work_location\n",
    "        - employment_conditions\n",
    "        - work_life_balance\n",
    "        - workload\n",
    "If the employee indicated any of the factors above caused them to resign, we'll mark them as `dissatisfied` in a new column. This new dissatisfied column will contain just the following values:\n",
    "\n",
    "    - True: indicates a person resigned because they were dissatisfied with the job\n",
    "    - False: indicates a person resigned because of a reason other than dissatisfaction with the job\n",
    "    - NaN: indicates the value is missing"
   ]
  },
  {
   "cell_type": "code",
   "execution_count": 9,
   "metadata": {
    "collapsed": false
   },
   "outputs": [
    {
     "name": "stdout",
     "output_type": "stream",
     "text": [
      "TAFE Contributing Factors. Dissatisfaction:\n",
      "-                                         277\n",
      "Contributing Factors. Dissatisfaction      55\n",
      "NaN                                         8\n",
      "Name: Contributing Factors. Dissatisfaction, dtype: int64\n",
      "TAFE Job Dissatisfaction:\n",
      "-                      270\n",
      "Job Dissatisfaction     62\n",
      "NaN                      8\n",
      "Name: Contributing Factors. Job Dissatisfaction, dtype: int64\n"
     ]
    }
   ],
   "source": [
    "# Create dissatisfaction column for both the datasets\n",
    "# (1) Check TAFE\n",
    "print('TAFE Contributing Factors. Dissatisfaction:', tafe_resignations['Contributing Factors. Dissatisfaction'].value_counts(dropna=False), sep='\\n')\n",
    "print('TAFE Job Dissatisfaction:', tafe_resignations['Contributing Factors. Job Dissatisfaction'].value_counts(dropna=False), sep='\\n')"
   ]
  },
  {
   "cell_type": "code",
   "execution_count": 10,
   "metadata": {
    "collapsed": false
   },
   "outputs": [
    {
     "name": "stdout",
     "output_type": "stream",
     "text": [
      "TAFE Contributing Factors. Dissatisfaction:\n",
      "False    277\n",
      "True      55\n",
      "NaN        8\n",
      "Name: Contributing Factors. Dissatisfaction, dtype: int64\n",
      "TAFE Job Dissatisfaction:\n",
      "False    270\n",
      "True      62\n",
      "NaN        8\n",
      "Name: Contributing Factors. Job Dissatisfaction, dtype: int64\n"
     ]
    }
   ],
   "source": [
    "# (2) Update values in TAFE dissatisfaction columns\n",
    "def update_vals(val):\n",
    "    if pd.isnull(val):\n",
    "        return np.nan\n",
    "    elif val == '-':\n",
    "        return False\n",
    "    else:\n",
    "        return True\n",
    "\n",
    "tafe_resignations[['Contributing Factors. Dissatisfaction', 'Contributing Factors. Job Dissatisfaction']] = tafe_resignations.loc[:, ['Contributing Factors. Dissatisfaction', 'Contributing Factors. Job Dissatisfaction']].applymap(update_vals)\n",
    "print('TAFE Contributing Factors. Dissatisfaction:', tafe_resignations['Contributing Factors. Dissatisfaction'].value_counts(dropna=False), sep='\\n')\n",
    "print('TAFE Job Dissatisfaction:', tafe_resignations['Contributing Factors. Job Dissatisfaction'].value_counts(dropna=False), sep='\\n')"
   ]
  },
  {
   "cell_type": "code",
   "execution_count": 11,
   "metadata": {
    "collapsed": false
   },
   "outputs": [
    {
     "name": "stdout",
     "output_type": "stream",
     "text": [
      "DETE dissatisfied:\n",
      "False    162\n",
      "True     149\n",
      "Name: dissatisfied, dtype: int64\n",
      "TAFE dissatisfied:\n",
      "False    241\n",
      "True      91\n",
      "NaN        8\n",
      "Name: dissatisfied, dtype: int64\n"
     ]
    }
   ],
   "source": [
    "# (3) Create new column\n",
    "dete_dissatisfied = dete_resignations[['job_dissatisfaction', 'dissatisfaction_with_the_department', 'physical_work_environment', 'lack_of_recognition', 'lack_of_job_security', 'work_location', 'employment_conditions', 'work_life_balance', 'workload']].any(axis=1, skipna=False)\n",
    "tafe_dissatisfied = tafe_resignations[['Contributing Factors. Dissatisfaction', 'Contributing Factors. Job Dissatisfaction']].any(axis=1, skipna=False)\n",
    "dete_resignations_up = dete_resignations.copy()\n",
    "tafe_resignations_up = tafe_resignations.copy()\n",
    "dete_resignations_up['dissatisfied'] = dete_dissatisfied\n",
    "tafe_resignations_up['dissatisfied'] = tafe_dissatisfied\n",
    "\n",
    "# (4) Check results\n",
    "print('DETE dissatisfied:', dete_resignations_up['dissatisfied'].value_counts(dropna=False), sep='\\n')\n",
    "print('TAFE dissatisfied:', tafe_resignations_up['dissatisfied'].value_counts(dropna=False), sep='\\n')"
   ]
  },
  {
   "cell_type": "markdown",
   "metadata": {},
   "source": [
    "Now we are ready to combine our datasets."
   ]
  },
  {
   "cell_type": "code",
   "execution_count": 12,
   "metadata": {
    "collapsed": false
   },
   "outputs": [
    {
     "name": "stdout",
     "output_type": "stream",
     "text": [
      "Results of dataset combined and cleaned (in terms of columns):\n",
      "age                  596\n",
      "cease_date           635\n",
      "dissatisfied         643\n",
      "employment_status    597\n",
      "gender               592\n",
      "id                   651\n",
      "institute            651\n",
      "institute_service    563\n",
      "position             598\n",
      "separationtype       651\n",
      "dtype: int64\n"
     ]
    }
   ],
   "source": [
    "# Add column to distinguish between datasets\n",
    "dete_resignations_up['institute'] = 'DETE'\n",
    "tafe_resignations_up['institute'] = 'TAFE'\n",
    "\n",
    "# Combine datasets\n",
    "combined = pd.concat([dete_resignations_up, tafe_resignations_up])\n",
    "\n",
    "# Clean unnecessary columns\n",
    "combined_updated = combined.dropna(axis=1, thresh=500).copy()\n",
    "\n",
    "# Check results\n",
    "print('Results of dataset combined and cleaned (in terms of columns):', combined_updated.count(), sep='\\n')"
   ]
  },
  {
   "cell_type": "markdown",
   "metadata": {},
   "source": [
    "Before making the analyse, we have to clean the `institute_service` column (it currently contains values in a couple different forms: individual years and range of years).\n",
    "\n",
    "To analyze the data, we will convert these numbers into categories. We can base our analysis on [this article](https://www.businesswire.com/news/home/20171108006002/en/Age-Number-Engage-Employees-Career-Stage), which makes the argument that understanding employee's needs according to career stage instead of age is more effective.\n",
    "\n",
    "We will use the slightly modified definitions below:\n",
    "\n",
    "    - New: Less than 3 years at a company\n",
    "    - Experienced: 3-6 years at a company\n",
    "    - Established: 7-10 years at a company\n",
    "    - Veteran: 11 or more years at a company"
   ]
  },
  {
   "cell_type": "code",
   "execution_count": 13,
   "metadata": {
    "collapsed": false
   },
   "outputs": [
    {
     "name": "stdout",
     "output_type": "stream",
     "text": [
      "Institute Service column before:\n",
      "NaN                   88\n",
      "Less than 1 year      73\n",
      "1-2                   64\n",
      "3-4                   63\n",
      "5-6                   33\n",
      "11-20                 26\n",
      "5.0                   23\n",
      "1.0                   22\n",
      "7-10                  21\n",
      "0.0                   20\n",
      "3.0                   20\n",
      "6.0                   17\n",
      "4.0                   16\n",
      "9.0                   14\n",
      "2.0                   14\n",
      "7.0                   13\n",
      "More than 20 years    10\n",
      "8.0                    8\n",
      "13.0                   8\n",
      "15.0                   7\n",
      "20.0                   7\n",
      "10.0                   6\n",
      "12.0                   6\n",
      "14.0                   6\n",
      "22.0                   6\n",
      "17.0                   6\n",
      "18.0                   5\n",
      "16.0                   5\n",
      "11.0                   4\n",
      "23.0                   4\n",
      "24.0                   4\n",
      "19.0                   3\n",
      "39.0                   3\n",
      "32.0                   3\n",
      "21.0                   3\n",
      "26.0                   2\n",
      "28.0                   2\n",
      "30.0                   2\n",
      "36.0                   2\n",
      "25.0                   2\n",
      "27.0                   1\n",
      "29.0                   1\n",
      "31.0                   1\n",
      "49.0                   1\n",
      "33.0                   1\n",
      "34.0                   1\n",
      "35.0                   1\n",
      "38.0                   1\n",
      "41.0                   1\n",
      "42.0                   1\n",
      "Name: institute_service, dtype: int64\n"
     ]
    }
   ],
   "source": [
    "# Check service column before\n",
    "print('Institute Service column before:', combined_updated['institute_service'].value_counts(dropna=False), sep='\\n')"
   ]
  },
  {
   "cell_type": "code",
   "execution_count": 14,
   "metadata": {
    "collapsed": false
   },
   "outputs": [
    {
     "name": "stdout",
     "output_type": "stream",
     "text": [
      "Institute Service column after:\n",
      "New            193\n",
      "Experienced    172\n",
      "Veteran        136\n",
      "NaN             88\n",
      "Established     62\n",
      "Name: service_cat, dtype: int64\n"
     ]
    },
    {
     "name": "stderr",
     "output_type": "stream",
     "text": [
      "/dataquest/system/env/python3/lib/python3.4/site-packages/ipykernel/__main__.py:4: FutureWarning:\n",
      "\n",
      "currently extract(expand=None) means expand=False (return Index/Series/DataFrame) but in a future version of pandas this will be changed to expand=True (return DataFrame)\n",
      "\n"
     ]
    }
   ],
   "source": [
    "# Modify values\n",
    "combined_updated.loc[:, ['institute_service']] = combined_updated.loc[:, ['institute_service']].astype(str)\n",
    "pattern_service = r'([0-9][0-9]?)'\n",
    "service_years = combined_updated['institute_service'].str.extract(pattern_service)\n",
    "combined_updated.loc[:, ['institute_service']] = service_years\n",
    "combined_updated.loc[:, ['institute_service']] = combined_updated.loc[:, ['institute_service']].astype(float)\n",
    "\n",
    "def define_range(val):\n",
    "    if pd.isnull(val):\n",
    "        return np.nan\n",
    "    elif val >= 11:\n",
    "        return 'Veteran'\n",
    "    elif val >= 7:\n",
    "        return 'Established'\n",
    "    elif val >= 3:\n",
    "        return 'Experienced'\n",
    "    else:\n",
    "        return 'New'\n",
    "\n",
    "combined_updated['service_cat'] = combined_updated['institute_service'].apply(define_range)\n",
    "\n",
    "# Check new column values\n",
    "print('Institute Service column after:', combined_updated['service_cat'].value_counts(dropna=False), sep='\\n')"
   ]
  },
  {
   "cell_type": "markdown",
   "metadata": {},
   "source": [
    "### Step 3: Analysis of the goal questions\n",
    "\n",
    "First, we will fill in missing values in the `dissatisfied` column and then aggregate the data."
   ]
  },
  {
   "cell_type": "code",
   "execution_count": 15,
   "metadata": {
    "collapsed": false
   },
   "outputs": [
    {
     "name": "stdout",
     "output_type": "stream",
     "text": [
      "Dissatisfied column before:\n",
      "False    403\n",
      "True     240\n",
      "NaN        8\n",
      "Name: dissatisfied, dtype: int64\n"
     ]
    }
   ],
   "source": [
    "# Check previous values for dissatisfied column\n",
    "print('Dissatisfied column before:', combined_updated['dissatisfied'].value_counts(dropna=False), sep='\\n')"
   ]
  },
  {
   "cell_type": "code",
   "execution_count": 16,
   "metadata": {
    "collapsed": false
   },
   "outputs": [
    {
     "name": "stdout",
     "output_type": "stream",
     "text": [
      "Dissatisfied column after:\n",
      "False    411\n",
      "True     240\n",
      "Name: dissatisfied, dtype: int64\n"
     ]
    }
   ],
   "source": [
    "# Fill missing values with most frequent value\n",
    "values = {'dissatisfied':False}\n",
    "combined_updated = combined_updated.fillna(value=values)\n",
    "print('Dissatisfied column after:', combined_updated['dissatisfied'].value_counts(dropna=False), sep='\\n')"
   ]
  },
  {
   "cell_type": "code",
   "execution_count": 17,
   "metadata": {
    "collapsed": false
   },
   "outputs": [
    {
     "data": {
      "image/png": "[encoded data removed]",
      "text/plain": [
       "<matplotlib.figure.Figure at 0x7fe06b85b5c0>"
      ]
     },
     "metadata": {},
     "output_type": "display_data"
    }
   ],
   "source": [
    "# Perform analysis over service categories values\n",
    "pv_combined_updated = combined_updated.pivot_table(index='service_cat', values='dissatisfied', aggfunc=np.mean)\n",
    "pv_combined_updated.plot(kind='bar')\n",
    "plt.show()"
   ]
  },
  {
   "cell_type": "markdown",
   "metadata": {},
   "source": [
    "Recap one of our goal questions:\n",
    "- Are employees who only worked for the institutes for a short period of time resigning due to some kind of dissatisfaction? What about employees who have been there longer?\n",
    "\n",
    "After the analysis, we can conclude that workers with a short period of time inside the institution were less proned to resign their jobs due to some kind of dissatisfaction. Conversely, near 50% of the workers who worked long periods resign their jobs due to some kind of dissatisfaction with the institution.\n",
    "\n",
    "To keep with the analysis, it is necessary to decide how to handle the rest of the missing values. Besides, a cleaning of the `age` column can be useful to analyse how many people in each age group resgined due to some kind of dissatisfaction."
   ]
  }
 ],
 "metadata": {
  "kernelspec": {
   "display_name": "Python 3",
   "language": "python",
   "name": "python3"
  },
  "language_info": {
   "codemirror_mode": {
    "name": "ipython",
    "version": 3
   },
   "file_extension": ".py",
   "mimetype": "text/x-python",
   "name": "python",
   "nbconvert_exporter": "python",
   "pygments_lexer": "ipython3",
   "version": "3.4.3"
  }
 },
 "nbformat": 4,
 "nbformat_minor": 2
}
